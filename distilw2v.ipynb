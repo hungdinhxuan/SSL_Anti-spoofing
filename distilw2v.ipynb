{
 "cells": [
  {
   "cell_type": "code",
   "execution_count": 1,
   "metadata": {},
   "outputs": [],
   "source": [
    "from model import DistilSSLModel\n",
    "import torch\n"
   ]
  },
  {
   "cell_type": "code",
   "execution_count": 2,
   "metadata": {},
   "outputs": [
    {
     "name": "stderr",
     "output_type": "stream",
     "text": [
      "2024-01-10 19:51:26 | INFO | fairseq.models.distilXLSR.distilxlsr | WavLM Config: {'extractor_mode': 'layer_norm', 'encoder_layers': 12, 'encoder_embed_dim': 1024, 'encoder_ffn_embed_dim': 4096, 'encoder_attention_heads': 16, 'activation_fn': 'gelu', 'layer_norm_first': True, 'conv_feature_layers': '[(512, 10, 5)] + [(512, 3, 2)] * 4 + [(512,2,2)] * 2', 'conv_bias': True, 'feature_grad_mult': 1.0, 'normalize': True, 'dropout': 0.0, 'attention_dropout': 0.0, 'activation_dropout': 0.0, 'encoder_layerdrop': 0.0, 'dropout_input': 0.0, 'dropout_features': 0.0, 'mask_length': 10, 'mask_prob': 0.25, 'mask_selection': 'static', 'mask_other': 0.0, 'no_mask_overlap': False, 'mask_min_space': 1, 'mask_channel_length': 64, 'mask_channel_prob': 0.15, 'mask_channel_selection': 'static', 'mask_channel_other': 0.0, 'no_mask_channel_overlap': False, 'mask_channel_min_space': 1, 'conv_pos': 128, 'conv_pos_groups': 16, 'relative_position_embedding': False, 'num_buckets': 0, 'max_distance': 0, 'gru_rel_pos': False, 'init_teacher_conv_layers': True, 'init_teacher_encoder_layers': True, 'layer_distil_version': 1, 'specified_teacher_layers': '[5, 11, 17, 23]', 'teacher_layers_weights': '[1.0, 1.0, 1.0, 1.0]', 'distil_with_hidden': False, 'distil_with_attn': False, 'distil_with_layer_norm': True, 'attn_distil_weight': 1.0, 'add_mask': False, 'teacher_layer_init_selection': '[0,2,4,6,8,10,12,14,16,18,20,22]', 'distil_with_cpc': False}\n"
     ]
    }
   ],
   "source": [
    "device = 'cpu'\n",
    "model = DistilSSLModel(device)"
   ]
  },
  {
   "cell_type": "code",
   "execution_count": 3,
   "metadata": {},
   "outputs": [
    {
     "name": "stdout",
     "output_type": "stream",
     "text": [
      "x torch.Size([1, 31, 1024])\n",
      "tensor([[[-0.3242, -0.1392, -0.0047,  ..., -0.0552, -0.0132,  0.2380],\n",
      "         [-0.1567, -0.1064,  0.0310,  ..., -0.0811,  0.0158,  0.3661],\n",
      "         [-0.0912, -0.0939,  0.0497,  ..., -0.0867,  0.0363,  0.4195],\n",
      "         ...,\n",
      "         [-0.0916, -0.0932,  0.0518,  ..., -0.0901,  0.0478,  0.4143],\n",
      "         [-0.1634, -0.0991,  0.0298,  ..., -0.0746,  0.0174,  0.3485],\n",
      "         [-0.3601, -0.1279, -0.0321,  ..., -0.0295, -0.0126,  0.2060]]],\n",
      "       grad_fn=<NativeLayerNormBackward0>)\n"
     ]
    }
   ],
   "source": [
    "data = torch.randn(1, 10000) # (B, len_audio)\n",
    "padding_mask = torch.zeros(1, 10000) # 1 for padded samples\n",
    "\n",
    "print(model.extract_feat(data))"
   ]
  }
 ],
 "metadata": {
  "kernelspec": {
   "display_name": "SSL_Spoofing",
   "language": "python",
   "name": "python3"
  },
  "language_info": {
   "codemirror_mode": {
    "name": "ipython",
    "version": 3
   },
   "file_extension": ".py",
   "mimetype": "text/x-python",
   "name": "python",
   "nbconvert_exporter": "python",
   "pygments_lexer": "ipython3",
   "version": "3.7.16"
  }
 },
 "nbformat": 4,
 "nbformat_minor": 2
}
